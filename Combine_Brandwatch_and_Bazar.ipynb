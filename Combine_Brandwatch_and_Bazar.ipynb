{
 "cells": [
  {
   "cell_type": "markdown",
   "metadata": {},
   "source": [
    "## Text Preprocessing"
   ]
  },
  {
   "cell_type": "code",
   "execution_count": 3,
   "metadata": {},
   "outputs": [
    {
     "data": {
      "text/html": [
       "<div>\n",
       "<style scoped>\n",
       "    .dataframe tbody tr th:only-of-type {\n",
       "        vertical-align: middle;\n",
       "    }\n",
       "\n",
       "    .dataframe tbody tr th {\n",
       "        vertical-align: top;\n",
       "    }\n",
       "\n",
       "    .dataframe thead th {\n",
       "        text-align: right;\n",
       "    }\n",
       "</style>\n",
       "<table border=\"1\" class=\"dataframe\">\n",
       "  <thead>\n",
       "    <tr style=\"text-align: right;\">\n",
       "      <th></th>\n",
       "      <th>brand</th>\n",
       "      <th>date</th>\n",
       "      <th>full_text</th>\n",
       "      <th>page_type</th>\n",
       "      <th>Clean_text</th>\n",
       "      <th>Product_category</th>\n",
       "      <th>Sentiment</th>\n",
       "    </tr>\n",
       "  </thead>\n",
       "  <tbody>\n",
       "    <tr>\n",
       "      <td>0</td>\n",
       "      <td>Listerine</td>\n",
       "      <td>12/30/2018</td>\n",
       "      <td>RT @KevGBKNY I think that?s out your system 2-...</td>\n",
       "      <td>twitter</td>\n",
       "      <td>think system days day use lot listerine peroxide</td>\n",
       "      <td>LISTERINEÃƒâ€šÃ‚Â® NIGHTLY RESET</td>\n",
       "      <td>1</td>\n",
       "    </tr>\n",
       "    <tr>\n",
       "      <td>1</td>\n",
       "      <td>Listerine</td>\n",
       "      <td>12/30/2018</td>\n",
       "      <td>I love these strips, but have had trouble find...</td>\n",
       "      <td>review</td>\n",
       "      <td>love strips trouble finding area please tell s...</td>\n",
       "      <td>LISTERINEÃƒâ€šÃ‚Â® Floss Products</td>\n",
       "      <td>1</td>\n",
       "    </tr>\n",
       "    <tr>\n",
       "      <td>2</td>\n",
       "      <td>Listerine</td>\n",
       "      <td>12/30/2018</td>\n",
       "      <td>I brush my teeth with walmart brand listerine,...</td>\n",
       "      <td>forum</td>\n",
       "      <td>brush teeth walmart brand listerine ok</td>\n",
       "      <td>LISTERINEÃƒâ€šÃ‚Â® SENSITIVITY</td>\n",
       "      <td>1</td>\n",
       "    </tr>\n",
       "    <tr>\n",
       "      <td>3</td>\n",
       "      <td>Listerine</td>\n",
       "      <td>12/30/2018</td>\n",
       "      <td>RT @chaddukes Sometimes when I watch the Redsk...</td>\n",
       "      <td>twitter</td>\n",
       "      <td>sometimes watch redskins play football like ro...</td>\n",
       "      <td>LISTERINEÃƒâ€šÃ‚Â® On-The-Go Oral Care Products</td>\n",
       "      <td>0</td>\n",
       "    </tr>\n",
       "    <tr>\n",
       "      <td>4</td>\n",
       "      <td>Listerine</td>\n",
       "      <td>12/30/2018</td>\n",
       "      <td>Jawn be gettin off work tryna meet up / jawn b...</td>\n",
       "      <td>twitter</td>\n",
       "      <td>jawn gettin work tryna meet jawn b gettin outt...</td>\n",
       "      <td>LISTERINEÃƒâ€šÃ‚Â® NIGHTLY RESET</td>\n",
       "      <td>1</td>\n",
       "    </tr>\n",
       "  </tbody>\n",
       "</table>\n",
       "</div>"
      ],
      "text/plain": [
       "       brand        date                                          full_text  \\\n",
       "0  Listerine  12/30/2018  RT @KevGBKNY I think that?s out your system 2-...   \n",
       "1  Listerine  12/30/2018  I love these strips, but have had trouble find...   \n",
       "2  Listerine  12/30/2018  I brush my teeth with walmart brand listerine,...   \n",
       "3  Listerine  12/30/2018  RT @chaddukes Sometimes when I watch the Redsk...   \n",
       "4  Listerine  12/30/2018  Jawn be gettin off work tryna meet up / jawn b...   \n",
       "\n",
       "  page_type                                         Clean_text  \\\n",
       "0   twitter   think system days day use lot listerine peroxide   \n",
       "1    review  love strips trouble finding area please tell s...   \n",
       "2     forum             brush teeth walmart brand listerine ok   \n",
       "3   twitter  sometimes watch redskins play football like ro...   \n",
       "4   twitter  jawn gettin work tryna meet jawn b gettin outt...   \n",
       "\n",
       "                                  Product_category  Sentiment  \n",
       "0                 LISTERINEÃƒâ€šÃ‚Â® NIGHTLY RESET          1  \n",
       "1                LISTERINEÃƒâ€šÃ‚Â® Floss Products          1  \n",
       "2                   LISTERINEÃƒâ€šÃ‚Â® SENSITIVITY          1  \n",
       "3  LISTERINEÃƒâ€šÃ‚Â® On-The-Go Oral Care Products          0  \n",
       "4                 LISTERINEÃƒâ€šÃ‚Â® NIGHTLY RESET          1  "
      ]
     },
     "execution_count": 3,
     "metadata": {},
     "output_type": "execute_result"
    }
   ],
   "source": [
    "# load libraries\n",
    "import pandas as pd\n",
    "import nltk # https://www.nltk.org/ ; nltk helps with tokenization, stopwords dictionary, lemmatization\n",
    "import re # https://docs.python.org/3/library/re.html ; re is used for regular expressions\n",
    "import numpy as np\n",
    "\n",
    "brandwatch = pd.read_csv(\"'Brandwatch_All_noRT.csv'.csv\", header = 0, engine='python')\n",
    "brandwatch.head()\n",
    "\n"
   ]
  },
  {
   "cell_type": "code",
   "execution_count": 53,
   "metadata": {},
   "outputs": [
    {
     "name": "stdout",
     "output_type": "stream",
     "text": [
      "<class 'pandas.core.frame.DataFrame'>\n",
      "RangeIndex: 240337 entries, 0 to 240336\n",
      "Data columns (total 7 columns):\n",
      "brand               240337 non-null object\n",
      "date                240337 non-null object\n",
      "full_text           240337 non-null object\n",
      "page_type           240294 non-null object\n",
      "Clean_text          240337 non-null object\n",
      "Product_category    74297 non-null object\n",
      "Sentiment           240337 non-null int64\n",
      "dtypes: int64(1), object(6)\n",
      "memory usage: 12.8+ MB\n"
     ]
    }
   ],
   "source": [
    "# check the structure of the data: number of rows, columns, type of each column, number of non-null values in each column\n",
    "brandwatch.info()"
   ]
  },
  {
   "cell_type": "markdown",
   "metadata": {},
   "source": [
    "## Clean up to match Brandwatch"
   ]
  },
  {
   "cell_type": "code",
   "execution_count": 56,
   "metadata": {},
   "outputs": [
    {
     "data": {
      "text/plain": [
       "LISTERINEÃƒâ€šÃ‚Â® Antiseptic Mouthwash Collection                                17266\n",
       "LISTERINEÃƒâ€šÃ‚Â® On-The-Go Oral Care Products                                   14754\n",
       "LISTERINEÃƒâ€šÃ‚Â® NIGHTLY RESET                                                  11243\n",
       "LISTERINEÃƒâ€šÃ‚Â® SENSITIVITY                                                     8245\n",
       "LISTERINEÃƒâ€šÃ‚Â® ZERO alcohol-free Mouthwash Collection                          8065\n",
       "LISTERINEÃƒâ€šÃ‚Â® ULTRACLEANÃƒâ€šÃ‚Â® Tartar Control Mouthwash Collection         4652\n",
       "LISTERINEÃƒâ€šÃ‚Â® Floss Products                                                  4245\n",
       "LISTERINEÃƒâ€šÃ‚Â® SMART RINSEÃƒâ€šÃ‚Â® Kids Mouthwash Collection                  2881\n",
       "LISTERINEÃƒâ€šÃ‚Â® Fluoride Toothpaste Collection                                  1087\n",
       "LISTERINEÃƒâ€šÃ‚Â® TOTAL CARE Mouthwash Collection                                  979\n",
       "LISTERINEÃƒâ€šÃ‚Â® NATURALS Mouthwash Collection                                    723\n",
       "LISTERINEÃƒâ€šÃ‚Â® HEALTHY WHITEÃƒÂ¢?Ã‚Â¢ Teeth Whitening Mouthwash Collection      157\n",
       "Name: Product_category, dtype: int64"
      ]
     },
     "execution_count": 56,
     "metadata": {},
     "output_type": "execute_result"
    }
   ],
   "source": [
    "brandwatch['Product_category'].value_counts()"
   ]
  },
  {
   "cell_type": "code",
   "execution_count": 58,
   "metadata": {},
   "outputs": [
    {
     "data": {
      "text/plain": [
       "Antiseptic Mouthwash Collection                                17266\n",
       "On-The-Go Oral Care Products                                   14754\n",
       "NIGHTLY RESET                                                  11243\n",
       "SENSITIVITY                                                     8245\n",
       "ZERO alcohol-free Mouthwash Collection                          8065\n",
       "Tartar Control Mouthwash Collection                             4652\n",
       "Floss Products                                                  4245\n",
       "Kids Mouthwash Collection                                       2881\n",
       "Fluoride Toothpaste Collection                                  1087\n",
       "TOTAL CARE Mouthwash Collection                                  979\n",
       "NATURALS Mouthwash Collection                                    723\n",
       "HEALTHY WHITEÃƒÂ¢?Ã‚Â¢ Teeth Whitening Mouthwash Collection      157\n",
       "Name: 1, dtype: int64"
      ]
     },
     "execution_count": 58,
     "metadata": {},
     "output_type": "execute_result"
    }
   ],
   "source": [
    "# Product Collection names to match Bazar\n",
    "# Clean Product Collection names\n",
    "new = brandwatch[\"Product_category\"].str.split(\"® \", n=1, expand = True)\n",
    "new[1] = new[1].str.replace('SMART RINSEÂ® Kids Mouthwash Collection', 'Kids Mouthwash Collection')\n",
    "new[1] = new[1].str.replace('ultracleanãƒâ€šã‚â® tartar control mouthwash collection', 'Ultraclean tartar control mouthwash collection')\n",
    "new[1] = new[1].str.replace('smart rinseãƒâ€šã‚â® kids mouthwash collection', 'Kids Mouthwash Collection')\n",
    "new[1] = new[1].str.replace('ultracleanÃ¢Â® tartar control mouthwash collection', 'Ultraclean tartar control mouthwash collection')\n",
    "new[1] = new[1].str.replace('healthy whiteãƒâ¢?ã‚â¢ teeth whitening mouthwash collection', 'teeth whitening mouthwash collection')\n",
    "new[1] = new[1].str.replace('healthy whiteÃ¢?Â¢ teeth whitening mouthwash collection', 'teeth whitening mouthwash collection')\n",
    "new[1] = new[1].str.replace('fluoride defenseÃ¢?Â¢', 'fluoride defense')\n",
    "new[1] = new[1].str.replace('ULTRACLEANÃƒâ€šÃ‚Â® Tartar Control Mouthwash Collection', 'Tartar Control Mouthwash Collection')\n",
    "new[1] = new[1].str.replace('SMART RINSEÃƒâ€šÃ‚Â® Kids Mouthwash Collection', 'Kids Mouthwash Collection')\n",
    "new[1] = new[1].str.replace('HEALTHY WHITEÃƒÂ¢?Ã‚Â¢ Teeth Whitening Mouthwash Collection', 'Teeth Whitening Mouthwash Collection')\n",
    "new[1].value_counts()\n"
   ]
  },
  {
   "cell_type": "code",
   "execution_count": 59,
   "metadata": {},
   "outputs": [
    {
     "data": {
      "text/html": [
       "<div>\n",
       "<style scoped>\n",
       "    .dataframe tbody tr th:only-of-type {\n",
       "        vertical-align: middle;\n",
       "    }\n",
       "\n",
       "    .dataframe tbody tr th {\n",
       "        vertical-align: top;\n",
       "    }\n",
       "\n",
       "    .dataframe thead th {\n",
       "        text-align: right;\n",
       "    }\n",
       "</style>\n",
       "<table border=\"1\" class=\"dataframe\">\n",
       "  <thead>\n",
       "    <tr style=\"text-align: right;\">\n",
       "      <th></th>\n",
       "      <th>brand</th>\n",
       "      <th>date</th>\n",
       "      <th>full_text</th>\n",
       "      <th>page_type</th>\n",
       "      <th>Clean_text</th>\n",
       "      <th>Product_category</th>\n",
       "      <th>Sentiment</th>\n",
       "      <th>Product_Collection_New</th>\n",
       "    </tr>\n",
       "  </thead>\n",
       "  <tbody>\n",
       "    <tr>\n",
       "      <td>0</td>\n",
       "      <td>Listerine</td>\n",
       "      <td>12/30/2018</td>\n",
       "      <td>RT @KevGBKNY I think that?s out your system 2-...</td>\n",
       "      <td>twitter</td>\n",
       "      <td>think system days day use lot listerine peroxide</td>\n",
       "      <td>nightly reset</td>\n",
       "      <td>1</td>\n",
       "      <td>NIGHTLY RESET</td>\n",
       "    </tr>\n",
       "    <tr>\n",
       "      <td>1</td>\n",
       "      <td>Listerine</td>\n",
       "      <td>12/30/2018</td>\n",
       "      <td>I love these strips, but have had trouble find...</td>\n",
       "      <td>review</td>\n",
       "      <td>love strips trouble finding area please tell s...</td>\n",
       "      <td>floss products</td>\n",
       "      <td>1</td>\n",
       "      <td>Floss Products</td>\n",
       "    </tr>\n",
       "  </tbody>\n",
       "</table>\n",
       "</div>"
      ],
      "text/plain": [
       "       brand        date                                          full_text  \\\n",
       "0  Listerine  12/30/2018  RT @KevGBKNY I think that?s out your system 2-...   \n",
       "1  Listerine  12/30/2018  I love these strips, but have had trouble find...   \n",
       "\n",
       "  page_type                                         Clean_text  \\\n",
       "0   twitter   think system days day use lot listerine peroxide   \n",
       "1    review  love strips trouble finding area please tell s...   \n",
       "\n",
       "  Product_category  Sentiment Product_Collection_New  \n",
       "0    nightly reset          1          NIGHTLY RESET  \n",
       "1   floss products          1         Floss Products  "
      ]
     },
     "execution_count": 59,
     "metadata": {},
     "output_type": "execute_result"
    }
   ],
   "source": [
    "# bring into df and lower\n",
    "brandwatch[\"Product_Collection_New\"] = new[1]\n",
    "brandwatch[\"Product_category\"] = brandwatch[\"Product_Collection_New\"].str.lower()\n",
    "brandwatch.head(2)"
   ]
  },
  {
   "cell_type": "code",
   "execution_count": 60,
   "metadata": {},
   "outputs": [
    {
     "data": {
      "text/html": [
       "<div>\n",
       "<style scoped>\n",
       "    .dataframe tbody tr th:only-of-type {\n",
       "        vertical-align: middle;\n",
       "    }\n",
       "\n",
       "    .dataframe tbody tr th {\n",
       "        vertical-align: top;\n",
       "    }\n",
       "\n",
       "    .dataframe thead th {\n",
       "        text-align: right;\n",
       "    }\n",
       "</style>\n",
       "<table border=\"1\" class=\"dataframe\">\n",
       "  <thead>\n",
       "    <tr style=\"text-align: right;\">\n",
       "      <th></th>\n",
       "      <th>brand</th>\n",
       "      <th>date</th>\n",
       "      <th>full_text</th>\n",
       "      <th>page_type</th>\n",
       "      <th>Clean_text</th>\n",
       "      <th>Product_category</th>\n",
       "      <th>Sentiment</th>\n",
       "    </tr>\n",
       "  </thead>\n",
       "  <tbody>\n",
       "    <tr>\n",
       "      <td>0</td>\n",
       "      <td>Listerine</td>\n",
       "      <td>12/30/2018</td>\n",
       "      <td>RT @KevGBKNY I think that?s out your system 2-...</td>\n",
       "      <td>twitter</td>\n",
       "      <td>think system days day use lot listerine peroxide</td>\n",
       "      <td>nightly reset</td>\n",
       "      <td>1</td>\n",
       "    </tr>\n",
       "    <tr>\n",
       "      <td>1</td>\n",
       "      <td>Listerine</td>\n",
       "      <td>12/30/2018</td>\n",
       "      <td>I love these strips, but have had trouble find...</td>\n",
       "      <td>review</td>\n",
       "      <td>love strips trouble finding area please tell s...</td>\n",
       "      <td>floss products</td>\n",
       "      <td>1</td>\n",
       "    </tr>\n",
       "  </tbody>\n",
       "</table>\n",
       "</div>"
      ],
      "text/plain": [
       "       brand        date                                          full_text  \\\n",
       "0  Listerine  12/30/2018  RT @KevGBKNY I think that?s out your system 2-...   \n",
       "1  Listerine  12/30/2018  I love these strips, but have had trouble find...   \n",
       "\n",
       "  page_type                                         Clean_text  \\\n",
       "0   twitter   think system days day use lot listerine peroxide   \n",
       "1    review  love strips trouble finding area please tell s...   \n",
       "\n",
       "  Product_category  Sentiment  \n",
       "0    nightly reset          1  \n",
       "1   floss products          1  "
      ]
     },
     "execution_count": 60,
     "metadata": {},
     "output_type": "execute_result"
    }
   ],
   "source": [
    "# only retain those column we need\n",
    "brandwatch_clean = brandwatch.iloc[:,[0,1,2,3,4,5,6]]\n",
    "brandwatch_clean.head(2)\n"
   ]
  },
  {
   "cell_type": "code",
   "execution_count": 61,
   "metadata": {},
   "outputs": [
    {
     "data": {
      "text/html": [
       "<div>\n",
       "<style scoped>\n",
       "    .dataframe tbody tr th:only-of-type {\n",
       "        vertical-align: middle;\n",
       "    }\n",
       "\n",
       "    .dataframe tbody tr th {\n",
       "        vertical-align: top;\n",
       "    }\n",
       "\n",
       "    .dataframe thead th {\n",
       "        text-align: right;\n",
       "    }\n",
       "</style>\n",
       "<table border=\"1\" class=\"dataframe\">\n",
       "  <thead>\n",
       "    <tr style=\"text-align: right;\">\n",
       "      <th></th>\n",
       "      <th>Brand</th>\n",
       "      <th>Date</th>\n",
       "      <th>Review_original</th>\n",
       "      <th>Source</th>\n",
       "      <th>Review_clean</th>\n",
       "      <th>Product_category</th>\n",
       "      <th>Sentiment</th>\n",
       "    </tr>\n",
       "  </thead>\n",
       "  <tbody>\n",
       "    <tr>\n",
       "      <td>0</td>\n",
       "      <td>Listerine</td>\n",
       "      <td>12/30/2018</td>\n",
       "      <td>RT @KevGBKNY I think that?s out your system 2-...</td>\n",
       "      <td>twitter</td>\n",
       "      <td>think system days day use lot listerine peroxide</td>\n",
       "      <td>nightly reset</td>\n",
       "      <td>1</td>\n",
       "    </tr>\n",
       "    <tr>\n",
       "      <td>1</td>\n",
       "      <td>Listerine</td>\n",
       "      <td>12/30/2018</td>\n",
       "      <td>I love these strips, but have had trouble find...</td>\n",
       "      <td>review</td>\n",
       "      <td>love strips trouble finding area please tell s...</td>\n",
       "      <td>floss products</td>\n",
       "      <td>1</td>\n",
       "    </tr>\n",
       "  </tbody>\n",
       "</table>\n",
       "</div>"
      ],
      "text/plain": [
       "       Brand        Date                                    Review_original  \\\n",
       "0  Listerine  12/30/2018  RT @KevGBKNY I think that?s out your system 2-...   \n",
       "1  Listerine  12/30/2018  I love these strips, but have had trouble find...   \n",
       "\n",
       "    Source                                       Review_clean  \\\n",
       "0  twitter   think system days day use lot listerine peroxide   \n",
       "1   review  love strips trouble finding area please tell s...   \n",
       "\n",
       "  Product_category  Sentiment  \n",
       "0    nightly reset          1  \n",
       "1   floss products          1  "
      ]
     },
     "execution_count": 61,
     "metadata": {},
     "output_type": "execute_result"
    }
   ],
   "source": [
    "\n",
    "#change column names to match Brandwatch\n",
    "column_mapping = {brandwatch_clean.columns[1]:'Date', brandwatch_clean.columns[2]:'Review_original', brandwatch_clean.columns[4]:'Review_clean', brandwatch_clean.columns[0]:'Brand', brandwatch_clean.columns[6]:'Sentiment', brandwatch_clean.columns[3]:'Source', brandwatch_clean.columns[5]:'Product_category'}\n",
    "brandwatch_clean.rename(columns = column_mapping, inplace = True)\n",
    "brandwatch_clean.head(2)"
   ]
  },
  {
   "cell_type": "code",
   "execution_count": 62,
   "metadata": {},
   "outputs": [
    {
     "data": {
      "text/plain": [
       "['Brand',\n",
       " 'Date',\n",
       " 'Review_original',\n",
       " 'Source',\n",
       " 'Review_clean',\n",
       " 'Product_category',\n",
       " 'Sentiment']"
      ]
     },
     "execution_count": 62,
     "metadata": {},
     "output_type": "execute_result"
    }
   ],
   "source": [
    "# reorder columns\n",
    "cols = list(brandwatch_clean.columns.values)\n",
    "cols"
   ]
  },
  {
   "cell_type": "code",
   "execution_count": 63,
   "metadata": {},
   "outputs": [
    {
     "data": {
      "text/html": [
       "<div>\n",
       "<style scoped>\n",
       "    .dataframe tbody tr th:only-of-type {\n",
       "        vertical-align: middle;\n",
       "    }\n",
       "\n",
       "    .dataframe tbody tr th {\n",
       "        vertical-align: top;\n",
       "    }\n",
       "\n",
       "    .dataframe thead th {\n",
       "        text-align: right;\n",
       "    }\n",
       "</style>\n",
       "<table border=\"1\" class=\"dataframe\">\n",
       "  <thead>\n",
       "    <tr style=\"text-align: right;\">\n",
       "      <th></th>\n",
       "      <th>Date</th>\n",
       "      <th>Brand</th>\n",
       "      <th>Product_category</th>\n",
       "      <th>Source</th>\n",
       "      <th>Review_original</th>\n",
       "      <th>Review_clean</th>\n",
       "      <th>Sentiment</th>\n",
       "    </tr>\n",
       "  </thead>\n",
       "  <tbody>\n",
       "    <tr>\n",
       "      <td>0</td>\n",
       "      <td>12/30/2018</td>\n",
       "      <td>Listerine</td>\n",
       "      <td>nightly reset</td>\n",
       "      <td>twitter</td>\n",
       "      <td>RT @KevGBKNY I think that?s out your system 2-...</td>\n",
       "      <td>think system days day use lot listerine peroxide</td>\n",
       "      <td>1</td>\n",
       "    </tr>\n",
       "    <tr>\n",
       "      <td>1</td>\n",
       "      <td>12/30/2018</td>\n",
       "      <td>Listerine</td>\n",
       "      <td>floss products</td>\n",
       "      <td>review</td>\n",
       "      <td>I love these strips, but have had trouble find...</td>\n",
       "      <td>love strips trouble finding area please tell s...</td>\n",
       "      <td>1</td>\n",
       "    </tr>\n",
       "  </tbody>\n",
       "</table>\n",
       "</div>"
      ],
      "text/plain": [
       "         Date      Brand Product_category   Source  \\\n",
       "0  12/30/2018  Listerine    nightly reset  twitter   \n",
       "1  12/30/2018  Listerine   floss products   review   \n",
       "\n",
       "                                     Review_original  \\\n",
       "0  RT @KevGBKNY I think that?s out your system 2-...   \n",
       "1  I love these strips, but have had trouble find...   \n",
       "\n",
       "                                        Review_clean  Sentiment  \n",
       "0   think system days day use lot listerine peroxide          1  \n",
       "1  love strips trouble finding area please tell s...          1  "
      ]
     },
     "execution_count": 63,
     "metadata": {},
     "output_type": "execute_result"
    }
   ],
   "source": [
    "# reorder columns2\n",
    "brandwatch_clean = brandwatch_clean[['Date','Brand', 'Product_category', 'Source', 'Review_original', 'Review_clean', 'Sentiment']]\n",
    "brandwatch_clean.head(2)"
   ]
  },
  {
   "cell_type": "code",
   "execution_count": 64,
   "metadata": {},
   "outputs": [
    {
     "name": "stdout",
     "output_type": "stream",
     "text": [
      "<class 'pandas.core.frame.DataFrame'>\n",
      "RangeIndex: 240337 entries, 0 to 240336\n",
      "Data columns (total 7 columns):\n",
      "Date                240337 non-null object\n",
      "Brand               240337 non-null object\n",
      "Product_category    74297 non-null object\n",
      "Source              240294 non-null object\n",
      "Review_original     240337 non-null object\n",
      "Review_clean        240337 non-null object\n",
      "Sentiment           240337 non-null int64\n",
      "dtypes: int64(1), object(6)\n",
      "memory usage: 12.8+ MB\n"
     ]
    }
   ],
   "source": [
    "brandwatch_clean.info()"
   ]
  },
  {
   "cell_type": "code",
   "execution_count": 65,
   "metadata": {},
   "outputs": [],
   "source": [
    "# export to csv\n",
    "brandwatch_clean.to_csv('Brandwatch_Clean.csv')"
   ]
  },
  {
   "cell_type": "markdown",
   "metadata": {},
   "source": [
    "# Combine Brandwatch and BazarVoice Datasets"
   ]
  },
  {
   "cell_type": "code",
   "execution_count": 72,
   "metadata": {},
   "outputs": [],
   "source": [
    "# bring in clean bazar voice \n",
    "bazar_clean = pd.read_csv(\"Bazar_Clean.csv\", header = 0, engine='python')"
   ]
  },
  {
   "cell_type": "code",
   "execution_count": 73,
   "metadata": {},
   "outputs": [
    {
     "name": "stderr",
     "output_type": "stream",
     "text": [
      "C:\\ProgramData\\Anaconda3\\lib\\site-packages\\ipykernel_launcher.py:2: FutureWarning: Sorting because non-concatenation axis is not aligned. A future version\n",
      "of pandas will change to not sort by default.\n",
      "\n",
      "To accept the future behavior, pass 'sort=False'.\n",
      "\n",
      "To retain the current behavior and silence the warning, pass 'sort=True'.\n",
      "\n",
      "  \n"
     ]
    },
    {
     "name": "stdout",
     "output_type": "stream",
     "text": [
      "<class 'pandas.core.frame.DataFrame'>\n",
      "Int64Index: 248928 entries, 0 to 240336\n",
      "Data columns (total 8 columns):\n",
      "Brand               248928 non-null object\n",
      "Date                248928 non-null object\n",
      "Product_category    82888 non-null object\n",
      "Review_clean        248927 non-null object\n",
      "Review_original     248928 non-null object\n",
      "Sentiment           248928 non-null int64\n",
      "Source              248885 non-null object\n",
      "Unnamed: 0          8591 non-null float64\n",
      "dtypes: float64(1), int64(1), object(6)\n",
      "memory usage: 17.1+ MB\n"
     ]
    }
   ],
   "source": [
    "# Combine the two datasets\n",
    "All_Clean = pd.concat([bazar_clean, brandwatch_clean],axis=0)\n",
    "All_Clean.info()\n"
   ]
  },
  {
   "cell_type": "code",
   "execution_count": 74,
   "metadata": {},
   "outputs": [
    {
     "data": {
      "text/html": [
       "<div>\n",
       "<style scoped>\n",
       "    .dataframe tbody tr th:only-of-type {\n",
       "        vertical-align: middle;\n",
       "    }\n",
       "\n",
       "    .dataframe tbody tr th {\n",
       "        vertical-align: top;\n",
       "    }\n",
       "\n",
       "    .dataframe thead th {\n",
       "        text-align: right;\n",
       "    }\n",
       "</style>\n",
       "<table border=\"1\" class=\"dataframe\">\n",
       "  <thead>\n",
       "    <tr style=\"text-align: right;\">\n",
       "      <th></th>\n",
       "      <th>Brand</th>\n",
       "      <th>Date</th>\n",
       "      <th>Product_category</th>\n",
       "      <th>Review_clean</th>\n",
       "      <th>Review_original</th>\n",
       "      <th>Sentiment</th>\n",
       "      <th>Source</th>\n",
       "      <th>Unnamed: 0</th>\n",
       "    </tr>\n",
       "  </thead>\n",
       "  <tbody>\n",
       "    <tr>\n",
       "      <td>29682</td>\n",
       "      <td>Listerine</td>\n",
       "      <td>1/1/2018</td>\n",
       "      <td>tartar control mouthwash collection</td>\n",
       "      <td>listerine could ever use worstera bestbreath</td>\n",
       "      <td>RT @KeithOlbermann But...all the Listerine the...</td>\n",
       "      <td>1</td>\n",
       "      <td>twitter</td>\n",
       "      <td>NaN</td>\n",
       "    </tr>\n",
       "    <tr>\n",
       "      <td>29679</td>\n",
       "      <td>Listerine</td>\n",
       "      <td>1/1/2018</td>\n",
       "      <td>zero alcohol-free mouthwash collection</td>\n",
       "      <td>recommended dental hygienist burn mouth tastes...</td>\n",
       "      <td>Recommended by my dental hygienist. Doesn't bu...</td>\n",
       "      <td>1</td>\n",
       "      <td>review</td>\n",
       "      <td>NaN</td>\n",
       "    </tr>\n",
       "    <tr>\n",
       "      <td>29678</td>\n",
       "      <td>Listerine</td>\n",
       "      <td>1/1/2018</td>\n",
       "      <td>floss products</td>\n",
       "      <td>similar example think red shoe sole louboutin ...</td>\n",
       "      <td>The most similar example I can think of is the...</td>\n",
       "      <td>1</td>\n",
       "      <td>reddit</td>\n",
       "      <td>NaN</td>\n",
       "    </tr>\n",
       "    <tr>\n",
       "      <td>29677</td>\n",
       "      <td>Listerine</td>\n",
       "      <td>1/1/2018</td>\n",
       "      <td>zero alcohol-free mouthwash collection</td>\n",
       "      <td>gargle really warm salt water hit enough burn ...</td>\n",
       "      <td>@Zellyanks Gargle with really warm salt water....</td>\n",
       "      <td>1</td>\n",
       "      <td>twitter</td>\n",
       "      <td>NaN</td>\n",
       "    </tr>\n",
       "    <tr>\n",
       "      <td>29676</td>\n",
       "      <td>Listerine</td>\n",
       "      <td>1/1/2018</td>\n",
       "      <td>sensitivity</td>\n",
       "      <td>lice hate smell tea tree oil lice shampoo easi...</td>\n",
       "      <td>Lice hate the smell of tea tree oil. The lice ...</td>\n",
       "      <td>1</td>\n",
       "      <td>forum</td>\n",
       "      <td>NaN</td>\n",
       "    </tr>\n",
       "    <tr>\n",
       "      <td>...</td>\n",
       "      <td>...</td>\n",
       "      <td>...</td>\n",
       "      <td>...</td>\n",
       "      <td>...</td>\n",
       "      <td>...</td>\n",
       "      <td>...</td>\n",
       "      <td>...</td>\n",
       "      <td>...</td>\n",
       "    </tr>\n",
       "    <tr>\n",
       "      <td>68833</td>\n",
       "      <td>Therabreath</td>\n",
       "      <td>9/9/2019</td>\n",
       "      <td>NaN</td>\n",
       "      <td>worked two days</td>\n",
       "      <td>Worked after two days</td>\n",
       "      <td>1</td>\n",
       "      <td>review</td>\n",
       "      <td>NaN</td>\n",
       "    </tr>\n",
       "    <tr>\n",
       "      <td>68834</td>\n",
       "      <td>Therabreath</td>\n",
       "      <td>9/9/2019</td>\n",
       "      <td>NaN</td>\n",
       "      <td>format health beauty know original product hop...</td>\n",
       "      <td>Format: Health and Beauty. I don't know what t...</td>\n",
       "      <td>1</td>\n",
       "      <td>review</td>\n",
       "      <td>NaN</td>\n",
       "    </tr>\n",
       "    <tr>\n",
       "      <td>68835</td>\n",
       "      <td>Therabreath</td>\n",
       "      <td>9/9/2019</td>\n",
       "      <td>NaN</td>\n",
       "      <td>problem earlier first trimester early second t...</td>\n",
       "      <td>I had this problem earlier, during first trime...</td>\n",
       "      <td>1</td>\n",
       "      <td>forum</td>\n",
       "      <td>NaN</td>\n",
       "    </tr>\n",
       "    <tr>\n",
       "      <td>68826</td>\n",
       "      <td>Toms</td>\n",
       "      <td>9/9/2019</td>\n",
       "      <td>NaN</td>\n",
       "      <td>flavor orange mango anyone sensitive mouth bra...</td>\n",
       "      <td>Flavor: Orange-Mango. For ANYONE with a sensit...</td>\n",
       "      <td>1</td>\n",
       "      <td>review</td>\n",
       "      <td>NaN</td>\n",
       "    </tr>\n",
       "    <tr>\n",
       "      <td>69230</td>\n",
       "      <td>Crest</td>\n",
       "      <td>9/9/2019</td>\n",
       "      <td>NaN</td>\n",
       "      <td>favorite product mine years taste minty like p...</td>\n",
       "      <td>This has been a favorite product of mine for y...</td>\n",
       "      <td>1</td>\n",
       "      <td>review</td>\n",
       "      <td>NaN</td>\n",
       "    </tr>\n",
       "  </tbody>\n",
       "</table>\n",
       "<p>248928 rows × 8 columns</p>\n",
       "</div>"
      ],
      "text/plain": [
       "             Brand      Date                        Product_category  \\\n",
       "29682    Listerine  1/1/2018     tartar control mouthwash collection   \n",
       "29679    Listerine  1/1/2018  zero alcohol-free mouthwash collection   \n",
       "29678    Listerine  1/1/2018                          floss products   \n",
       "29677    Listerine  1/1/2018  zero alcohol-free mouthwash collection   \n",
       "29676    Listerine  1/1/2018                             sensitivity   \n",
       "...            ...       ...                                     ...   \n",
       "68833  Therabreath  9/9/2019                                     NaN   \n",
       "68834  Therabreath  9/9/2019                                     NaN   \n",
       "68835  Therabreath  9/9/2019                                     NaN   \n",
       "68826         Toms  9/9/2019                                     NaN   \n",
       "69230        Crest  9/9/2019                                     NaN   \n",
       "\n",
       "                                            Review_clean  \\\n",
       "29682       listerine could ever use worstera bestbreath   \n",
       "29679  recommended dental hygienist burn mouth tastes...   \n",
       "29678  similar example think red shoe sole louboutin ...   \n",
       "29677  gargle really warm salt water hit enough burn ...   \n",
       "29676  lice hate smell tea tree oil lice shampoo easi...   \n",
       "...                                                  ...   \n",
       "68833                                    worked two days   \n",
       "68834  format health beauty know original product hop...   \n",
       "68835  problem earlier first trimester early second t...   \n",
       "68826  flavor orange mango anyone sensitive mouth bra...   \n",
       "69230  favorite product mine years taste minty like p...   \n",
       "\n",
       "                                         Review_original  Sentiment   Source  \\\n",
       "29682  RT @KeithOlbermann But...all the Listerine the...          1  twitter   \n",
       "29679  Recommended by my dental hygienist. Doesn't bu...          1   review   \n",
       "29678  The most similar example I can think of is the...          1   reddit   \n",
       "29677  @Zellyanks Gargle with really warm salt water....          1  twitter   \n",
       "29676  Lice hate the smell of tea tree oil. The lice ...          1    forum   \n",
       "...                                                  ...        ...      ...   \n",
       "68833                              Worked after two days          1   review   \n",
       "68834  Format: Health and Beauty. I don't know what t...          1   review   \n",
       "68835  I had this problem earlier, during first trime...          1    forum   \n",
       "68826  Flavor: Orange-Mango. For ANYONE with a sensit...          1   review   \n",
       "69230  This has been a favorite product of mine for y...          1   review   \n",
       "\n",
       "       Unnamed: 0  \n",
       "29682         NaN  \n",
       "29679         NaN  \n",
       "29678         NaN  \n",
       "29677         NaN  \n",
       "29676         NaN  \n",
       "...           ...  \n",
       "68833         NaN  \n",
       "68834         NaN  \n",
       "68835         NaN  \n",
       "68826         NaN  \n",
       "69230         NaN  \n",
       "\n",
       "[248928 rows x 8 columns]"
      ]
     },
     "execution_count": 74,
     "metadata": {},
     "output_type": "execute_result"
    }
   ],
   "source": [
    "All_Clean = All_Clean.sort_values(by=['Date'])\n",
    "All_Clean"
   ]
  },
  {
   "cell_type": "code",
   "execution_count": 75,
   "metadata": {},
   "outputs": [
    {
     "data": {
      "text/plain": [
       "on-the-go oral care products                                   18481\n",
       "antiseptic mouthwash collection                                17892\n",
       "nightly reset                                                  12140\n",
       "sensitivity                                                     9314\n",
       "zero alcohol-free mouthwash collection                          8777\n",
       "floss products                                                  4994\n",
       "tartar control mouthwash collection                             4652\n",
       "kids mouthwash collection                                       3127\n",
       "fluoride toothpaste collection                                  1127\n",
       "total care mouthwash collection                                 1099\n",
       "naturals mouthwash collection                                    757\n",
       "ultraclean tartar control mouthwash                              343\n",
       "healthy whiteãƒâ¢?ã‚â¢ teeth whitening mouthwash collection      157\n",
       "healthy whiteÃ¢?Â¢ teeth whitening mouthwash collection           26\n",
       "fluoride defenseÃ¢?Â¢                                              2\n",
       "Name: Product_category, dtype: int64"
      ]
     },
     "execution_count": 75,
     "metadata": {},
     "output_type": "execute_result"
    }
   ],
   "source": [
    "All_Clean[\"Product_category\"].value_counts()"
   ]
  },
  {
   "cell_type": "code",
   "execution_count": 80,
   "metadata": {},
   "outputs": [],
   "source": [
    "# export to csv\n",
    "All_Clean.to_csv('All_Clean.csv')"
   ]
  },
  {
   "cell_type": "code",
   "execution_count": 78,
   "metadata": {},
   "outputs": [
    {
     "name": "stdout",
     "output_type": "stream",
     "text": [
      "<class 'pandas.core.frame.DataFrame'>\n",
      "Int64Index: 199415 entries, 29679 to 69230\n",
      "Data columns (total 8 columns):\n",
      "Brand               199415 non-null object\n",
      "Date                199415 non-null object\n",
      "Product_category    63757 non-null object\n",
      "Review_clean        199414 non-null object\n",
      "Review_original     199415 non-null object\n",
      "Sentiment           199415 non-null int64\n",
      "Source              199372 non-null object\n",
      "Unnamed: 0          8580 non-null float64\n",
      "dtypes: float64(1), int64(1), object(6)\n",
      "memory usage: 13.7+ MB\n"
     ]
    }
   ],
   "source": [
    "# ID Retweet Reviews and create new df that does not contain these duplicates. \n",
    "All_Clean.Review_original=All_Clean.Review_original.astype(str)\n",
    "All_Clean_noRT = All_Clean[~All_Clean.Review_original.str.contains(\"RT\", na=False)]\n",
    "All_Clean_noRT.info()"
   ]
  },
  {
   "cell_type": "code",
   "execution_count": 4,
   "metadata": {},
   "outputs": [],
   "source": [
    "All_Clean_noRT= pd.read_csv('All_Clean_noRT.csv', header = 0, engine='python')"
   ]
  },
  {
   "cell_type": "code",
   "execution_count": 5,
   "metadata": {},
   "outputs": [
    {
     "data": {
      "text/plain": [
       "twitter          84189\n",
       "review           51318\n",
       "forum            18062\n",
       "news             12749\n",
       "reddit           12666\n",
       "tumblr           10957\n",
       "listerine.com     8580\n",
       "blog               843\n",
       "Name: Source, dtype: int64"
      ]
     },
     "execution_count": 5,
     "metadata": {},
     "output_type": "execute_result"
    }
   ],
   "source": [
    "All_Clean_noRT['Source'].value_counts()"
   ]
  },
  {
   "cell_type": "code",
   "execution_count": 79,
   "metadata": {},
   "outputs": [],
   "source": [
    "# export no Retweet (RT) file to csv\n",
    "All_Clean_noRT.to_csv('All_Clean_noRT.csv')"
   ]
  }
 ],
 "metadata": {
  "kernelspec": {
   "display_name": "Python 3",
   "language": "python",
   "name": "python3"
  },
  "language_info": {
   "codemirror_mode": {
    "name": "ipython",
    "version": 3
   },
   "file_extension": ".py",
   "mimetype": "text/x-python",
   "name": "python",
   "nbconvert_exporter": "python",
   "pygments_lexer": "ipython3",
   "version": "3.7.4"
  }
 },
 "nbformat": 4,
 "nbformat_minor": 4
}
